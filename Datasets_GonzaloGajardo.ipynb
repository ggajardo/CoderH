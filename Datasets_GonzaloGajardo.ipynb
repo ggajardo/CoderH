{
  "nbformat": 4,
  "nbformat_minor": 0,
  "metadata": {
    "colab": {
      "provenance": [],
      "toc_visible": true,
      "authorship_tag": "ABX9TyNuKEsb7jFXNpt00GeUxx3f",
      "include_colab_link": true
    },
    "kernelspec": {
      "name": "python3",
      "display_name": "Python 3"
    },
    "language_info": {
      "name": "python"
    }
  },
  "cells": [
    {
      "cell_type": "markdown",
      "metadata": {
        "id": "view-in-github",
        "colab_type": "text"
      },
      "source": [
        "<a href=\"https://colab.research.google.com/github/ggajardo/CoderH/blob/main/Datasets_GonzaloGajardo.ipynb\" target=\"_parent\"><img src=\"https://colab.research.google.com/assets/colab-badge.svg\" alt=\"Open In Colab\"/></a>"
      ]
    },
    {
      "cell_type": "markdown",
      "source": [
        "# CARGA DE DATOS AVANCE ACADEMICO\n",
        "\n",
        "\n"
      ],
      "metadata": {
        "id": "6CqjNGJwWx60"
      }
    },
    {
      "cell_type": "code",
      "execution_count": 86,
      "metadata": {
        "id": "200b7lG2BN6o"
      },
      "outputs": [],
      "source": [
        "import pandas as pd\n",
        "url = 'https://raw.githubusercontent.com/ggajardo/CoderH/main/AVANCE_C.csv'\n",
        "df_avance_academico = pd.read_csv(url,encoding='utf-8')\n"
      ]
    },
    {
      "cell_type": "markdown",
      "source": [
        "# ANALISIS VARIABLES AVANCE ACADEMICO\n",
        "\n"
      ],
      "metadata": {
        "id": "K0fwLAJAXKx0"
      }
    },
    {
      "cell_type": "code",
      "source": [
        "## columnas ##\n",
        "df_avance_academico.columns\n",
        "\n",
        "# NUM_DOCUMENTO = IDENTIFICADOR UNICO DE ESTUDIANTE\n",
        "# CODIGO_UNICO = IDENTIFICADOR DE LA CARRERA DEL ESTUDIANTE\n",
        "# ANIO_INGRESO_CARRERA_ACTUAL = Año de ingreso del plan de estudio y fecha de conteo para avance\n",
        "# UNIDADES_APROBADAS = Cantidad de cursos aprobados por el estudiante el año 2021\n",
        "# UNIDADES_APROBADAS_TOTAL = Cantidad de cursos aprobados en toda la carrera (sumatoria de todos los periodos)"
      ],
      "metadata": {
        "colab": {
          "base_uri": "https://localhost:8080/"
        },
        "id": "xWgkTr8LJ2GR",
        "outputId": "115b4bd7-b78c-49e8-cb2d-c38bf453a09d"
      },
      "execution_count": 38,
      "outputs": [
        {
          "output_type": "execute_result",
          "data": {
            "text/plain": [
              "Index(['TIPO_DOCUMENTO', 'NUM_DOCUMENTO', 'DV', 'PRIMER_APELLIDO',\n",
              "       'SEGUNDO_APELLIDO', 'NOMBRES', 'SEXO', 'FECHA_NACIMIENTO',\n",
              "       'CODIGO_UNICO', 'PLAN_ESTUDIOS', 'ANIO_INGRESO_CARRERA_ACTUAL',\n",
              "       'SEM_INGRESO_CARRERA_ACTUAL', 'ANIO_INGRESO_CARRERA_ORIGEN',\n",
              "       'SEM_INGRESO_CARRERA_ORIGEN', 'CURSO_1ER_SEM', 'CURSO_2DO_SEM',\n",
              "       'UNIDADES_CURSADAS', 'UNIDADES_APROBADAS', 'UNID_CURSADAS_TOTAL',\n",
              "       'UNID_APROBADAS_TOTAL', 'VIGENCIA'],\n",
              "      dtype='object')"
            ]
          },
          "metadata": {},
          "execution_count": 38
        }
      ]
    },
    {
      "cell_type": "code",
      "source": [
        "## cantidad de estudiantes unicos ##\n",
        "\n",
        "len(df_avance_academico['NUM_DOCUMENTO'].unique())"
      ],
      "metadata": {
        "colab": {
          "base_uri": "https://localhost:8080/"
        },
        "id": "ZEXjZFkMI6AX",
        "outputId": "a3464e48-f591-4c7d-a655-ac9cc408966a"
      },
      "execution_count": 39,
      "outputs": [
        {
          "output_type": "execute_result",
          "data": {
            "text/plain": [
              "89810"
            ]
          },
          "metadata": {},
          "execution_count": 39
        }
      ]
    },
    {
      "cell_type": "code",
      "source": [
        "## Informacion sobre la cantidad de modulos (cursos) aprobados por los estudiantes el año 2021\n",
        "df_avance_academico['UNIDADES_APROBADAS'].describe()\n",
        "\n",
        "\n",
        "# El promedio de asignaturas aprobadas el año 2021 por los estudiantes fue en promedio 7 asignaturas"
      ],
      "metadata": {
        "colab": {
          "base_uri": "https://localhost:8080/"
        },
        "id": "IB992lOyK5z1",
        "outputId": "e1cd628d-a29e-4e5c-9db0-f7d867c5457f"
      },
      "execution_count": 41,
      "outputs": [
        {
          "output_type": "execute_result",
          "data": {
            "text/plain": [
              "count    89810.000000\n",
              "mean         7.029518\n",
              "std          5.324128\n",
              "min          0.000000\n",
              "25%          0.000000\n",
              "50%          9.000000\n",
              "75%         12.000000\n",
              "max         22.000000\n",
              "Name: UNIDADES_APROBADAS, dtype: float64"
            ]
          },
          "metadata": {},
          "execution_count": 41
        }
      ]
    },
    {
      "cell_type": "code",
      "source": [
        "# Analicemos la cantidad de modulos aprobados agrupados por genero\n",
        "\n",
        "datos_sexo = df_avance_academico.groupby('SEXO')\n",
        "datos_sexo['UNIDADES_APROBADAS'].describe()\n",
        " \n",
        "# Se puede visualizar que la aprobacion (cantidad de modulos aprobados) de las mujeres es mas alto que los homres"
      ],
      "metadata": {
        "colab": {
          "base_uri": "https://localhost:8080/",
          "height": 143
        },
        "id": "y70N0roZMDl2",
        "outputId": "3d320ad7-dae9-4383-ab90-3038877c657e"
      },
      "execution_count": 83,
      "outputs": [
        {
          "output_type": "execute_result",
          "data": {
            "text/plain": [
              "        count      mean       std  min  25%   50%   75%   max\n",
              "SEXO                                                         \n",
              "H     31471.0  6.581392  5.229245  0.0  0.0   8.0  12.0  21.0\n",
              "M     58339.0  7.271259  5.359125  0.0  0.0  10.0  12.0  22.0"
            ],
            "text/html": [
              "\n",
              "  <div id=\"df-25971bda-8033-43bc-b1da-d06b5006cfec\">\n",
              "    <div class=\"colab-df-container\">\n",
              "      <div>\n",
              "<style scoped>\n",
              "    .dataframe tbody tr th:only-of-type {\n",
              "        vertical-align: middle;\n",
              "    }\n",
              "\n",
              "    .dataframe tbody tr th {\n",
              "        vertical-align: top;\n",
              "    }\n",
              "\n",
              "    .dataframe thead th {\n",
              "        text-align: right;\n",
              "    }\n",
              "</style>\n",
              "<table border=\"1\" class=\"dataframe\">\n",
              "  <thead>\n",
              "    <tr style=\"text-align: right;\">\n",
              "      <th></th>\n",
              "      <th>count</th>\n",
              "      <th>mean</th>\n",
              "      <th>std</th>\n",
              "      <th>min</th>\n",
              "      <th>25%</th>\n",
              "      <th>50%</th>\n",
              "      <th>75%</th>\n",
              "      <th>max</th>\n",
              "    </tr>\n",
              "    <tr>\n",
              "      <th>SEXO</th>\n",
              "      <th></th>\n",
              "      <th></th>\n",
              "      <th></th>\n",
              "      <th></th>\n",
              "      <th></th>\n",
              "      <th></th>\n",
              "      <th></th>\n",
              "      <th></th>\n",
              "    </tr>\n",
              "  </thead>\n",
              "  <tbody>\n",
              "    <tr>\n",
              "      <th>H</th>\n",
              "      <td>31471.0</td>\n",
              "      <td>6.581392</td>\n",
              "      <td>5.229245</td>\n",
              "      <td>0.0</td>\n",
              "      <td>0.0</td>\n",
              "      <td>8.0</td>\n",
              "      <td>12.0</td>\n",
              "      <td>21.0</td>\n",
              "    </tr>\n",
              "    <tr>\n",
              "      <th>M</th>\n",
              "      <td>58339.0</td>\n",
              "      <td>7.271259</td>\n",
              "      <td>5.359125</td>\n",
              "      <td>0.0</td>\n",
              "      <td>0.0</td>\n",
              "      <td>10.0</td>\n",
              "      <td>12.0</td>\n",
              "      <td>22.0</td>\n",
              "    </tr>\n",
              "  </tbody>\n",
              "</table>\n",
              "</div>\n",
              "      <button class=\"colab-df-convert\" onclick=\"convertToInteractive('df-25971bda-8033-43bc-b1da-d06b5006cfec')\"\n",
              "              title=\"Convert this dataframe to an interactive table.\"\n",
              "              style=\"display:none;\">\n",
              "        \n",
              "  <svg xmlns=\"http://www.w3.org/2000/svg\" height=\"24px\"viewBox=\"0 0 24 24\"\n",
              "       width=\"24px\">\n",
              "    <path d=\"M0 0h24v24H0V0z\" fill=\"none\"/>\n",
              "    <path d=\"M18.56 5.44l.94 2.06.94-2.06 2.06-.94-2.06-.94-.94-2.06-.94 2.06-2.06.94zm-11 1L8.5 8.5l.94-2.06 2.06-.94-2.06-.94L8.5 2.5l-.94 2.06-2.06.94zm10 10l.94 2.06.94-2.06 2.06-.94-2.06-.94-.94-2.06-.94 2.06-2.06.94z\"/><path d=\"M17.41 7.96l-1.37-1.37c-.4-.4-.92-.59-1.43-.59-.52 0-1.04.2-1.43.59L10.3 9.45l-7.72 7.72c-.78.78-.78 2.05 0 2.83L4 21.41c.39.39.9.59 1.41.59.51 0 1.02-.2 1.41-.59l7.78-7.78 2.81-2.81c.8-.78.8-2.07 0-2.86zM5.41 20L4 18.59l7.72-7.72 1.47 1.35L5.41 20z\"/>\n",
              "  </svg>\n",
              "      </button>\n",
              "      \n",
              "  <style>\n",
              "    .colab-df-container {\n",
              "      display:flex;\n",
              "      flex-wrap:wrap;\n",
              "      gap: 12px;\n",
              "    }\n",
              "\n",
              "    .colab-df-convert {\n",
              "      background-color: #E8F0FE;\n",
              "      border: none;\n",
              "      border-radius: 50%;\n",
              "      cursor: pointer;\n",
              "      display: none;\n",
              "      fill: #1967D2;\n",
              "      height: 32px;\n",
              "      padding: 0 0 0 0;\n",
              "      width: 32px;\n",
              "    }\n",
              "\n",
              "    .colab-df-convert:hover {\n",
              "      background-color: #E2EBFA;\n",
              "      box-shadow: 0px 1px 2px rgba(60, 64, 67, 0.3), 0px 1px 3px 1px rgba(60, 64, 67, 0.15);\n",
              "      fill: #174EA6;\n",
              "    }\n",
              "\n",
              "    [theme=dark] .colab-df-convert {\n",
              "      background-color: #3B4455;\n",
              "      fill: #D2E3FC;\n",
              "    }\n",
              "\n",
              "    [theme=dark] .colab-df-convert:hover {\n",
              "      background-color: #434B5C;\n",
              "      box-shadow: 0px 1px 3px 1px rgba(0, 0, 0, 0.15);\n",
              "      filter: drop-shadow(0px 1px 2px rgba(0, 0, 0, 0.3));\n",
              "      fill: #FFFFFF;\n",
              "    }\n",
              "  </style>\n",
              "\n",
              "      <script>\n",
              "        const buttonEl =\n",
              "          document.querySelector('#df-25971bda-8033-43bc-b1da-d06b5006cfec button.colab-df-convert');\n",
              "        buttonEl.style.display =\n",
              "          google.colab.kernel.accessAllowed ? 'block' : 'none';\n",
              "\n",
              "        async function convertToInteractive(key) {\n",
              "          const element = document.querySelector('#df-25971bda-8033-43bc-b1da-d06b5006cfec');\n",
              "          const dataTable =\n",
              "            await google.colab.kernel.invokeFunction('convertToInteractive',\n",
              "                                                     [key], {});\n",
              "          if (!dataTable) return;\n",
              "\n",
              "          const docLinkHtml = 'Like what you see? Visit the ' +\n",
              "            '<a target=\"_blank\" href=https://colab.research.google.com/notebooks/data_table.ipynb>data table notebook</a>'\n",
              "            + ' to learn more about interactive tables.';\n",
              "          element.innerHTML = '';\n",
              "          dataTable['output_type'] = 'display_data';\n",
              "          await google.colab.output.renderOutput(dataTable, element);\n",
              "          const docLink = document.createElement('div');\n",
              "          docLink.innerHTML = docLinkHtml;\n",
              "          element.appendChild(docLink);\n",
              "        }\n",
              "      </script>\n",
              "    </div>\n",
              "  </div>\n",
              "  "
            ]
          },
          "metadata": {},
          "execution_count": 83
        }
      ]
    },
    {
      "cell_type": "code",
      "source": [
        "# Analizamos la cantidad de modulos aprobados en un histograma\n",
        "import matplotlib.pyplot as plt\n",
        "\n",
        "asignaturas_ap = df_avance_academico['UNIDADES_APROBADAS']\n",
        "plt.hist(asignaturas_ap,bins =range(len(asignaturas_ap.unique())+1))\n",
        "plt.figure()\n"
      ],
      "metadata": {
        "colab": {
          "base_uri": "https://localhost:8080/",
          "height": 300
        },
        "id": "rMAcUkCBN53T",
        "outputId": "88da23d2-5f7d-4387-f07b-22514177494c"
      },
      "execution_count": 85,
      "outputs": [
        {
          "output_type": "execute_result",
          "data": {
            "text/plain": [
              "<Figure size 432x288 with 0 Axes>"
            ]
          },
          "metadata": {},
          "execution_count": 85
        },
        {
          "output_type": "display_data",
          "data": {
            "text/plain": [
              "<Figure size 432x288 with 1 Axes>"
            ],
            "image/png": "[encoded data removed]"
          },
          "metadata": {
            "needs_background": "light"
          }
        },
        {
          "output_type": "display_data",
          "data": {
            "text/plain": [
              "<Figure size 432x288 with 0 Axes>"
            ]
          },
          "metadata": {}
        }
      ]
    },
    {
      "cell_type": "markdown",
      "source": [
        "# CARGA DE DATOS TITULADOS"
      ],
      "metadata": {
        "id": "iKb5kGSoXqEr"
      }
    },
    {
      "cell_type": "markdown",
      "source": [
        "# ANALISIS VARIABLES TITULADOS"
      ],
      "metadata": {
        "id": "IhdULrrhXuRi"
      }
    },
    {
      "cell_type": "markdown",
      "source": [
        "# CARGA DE DATOS MATRICULA"
      ],
      "metadata": {
        "id": "GntZS9MXXzxR"
      }
    },
    {
      "cell_type": "markdown",
      "source": [
        "# ANALISIS VARIABLES MATRICULA"
      ],
      "metadata": {
        "id": "8xY0nX7EX4Np"
      }
    }
  ]
}